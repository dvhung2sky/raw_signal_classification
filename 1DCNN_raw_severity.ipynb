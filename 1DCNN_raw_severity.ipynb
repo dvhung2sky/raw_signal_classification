{
 "cells": [
  {
   "cell_type": "code",
   "execution_count": 1,
   "metadata": {
    "colab": {},
    "colab_type": "code",
    "id": "RUrp62pHSuCN"
   },
   "outputs": [],
   "source": [
    "import numpy as np\n",
    "import pandas as pd\n",
    "import torch\n",
    "from torch.utils.data import TensorDataset, DataLoader,Dataset\n",
    "import torch.nn as nn\n",
    "import torch.nn.functional as F\n",
    "import torchvision\n",
    "import torchvision.transforms as transforms\n",
    "import torch.optim as optim\n",
    "from torch.optim import lr_scheduler\n",
    "import time\n",
    "from sklearn.metrics import accuracy_score\n",
    "import time\n",
    "from IPython.display import HTML\n",
    "import json\n",
    "from sklearn.preprocessing import LabelEncoder\n",
    "\n",
    "import torch.utils.data\n",
    "from sklearn.model_selection import train_test_split\n",
    "\n",
    "from sklearn.preprocessing import StandardScaler\n",
    "from sklearn.model_selection import StratifiedKFold, KFold, RepeatedKFold, train_test_split, GroupKFold, GroupShuffleSplit"
   ]
  },
  {
   "cell_type": "code",
   "execution_count": 2,
   "metadata": {
    "colab": {},
    "colab_type": "code",
    "id": "-8-RADcjZK1y"
   },
   "outputs": [],
   "source": [
    "import timeit\n",
    "import pandas as pd\n",
    "import numpy as np\n",
    "import matplotlib.pyplot as plt\n",
    "%matplotlib inline\n",
    "import pickle\n",
    "from sklearn.model_selection import train_test_split\n",
    "from sklearn.preprocessing import LabelEncoder"
   ]
  },
  {
   "cell_type": "code",
   "execution_count": 3,
   "metadata": {
    "colab": {},
    "colab_type": "code",
    "id": "usa-FPRMa0n7"
   },
   "outputs": [],
   "source": [
    "def create_data(X, y):  \n",
    "    X_train, X_valid, y_train, y_valid = train_test_split(X, y, test_size=0.1)\n",
    "    return X_train, X_valid, y_train, y_valid  \n",
    "\n",
    "def create_datasets(X1, X2, X3, X4, X5, X6, X7, X8, X9, y):\n",
    "    X1 = torch.tensor(X1, dtype=torch.float32) \n",
    "    X2 = torch.tensor(X2, dtype=torch.float32) \n",
    "    X3 = torch.tensor(X3, dtype=torch.float32) \n",
    "    X4 = torch.tensor(X4, dtype=torch.float32) \n",
    "    X5 = torch.tensor(X5, dtype=torch.float32) \n",
    "    X6 = torch.tensor(X6, dtype=torch.float32)     \n",
    "    X7 = torch.tensor(X7, dtype=torch.float32) \n",
    "    X8 = torch.tensor(X8, dtype=torch.float32) \n",
    "    X9 = torch.tensor(X9, dtype=torch.float32)     \n",
    "    \n",
    "    y = torch.tensor(y, dtype=torch.long)\n",
    "    data_ds = TensorDataset(X1, X2, X3, X4, X5, X6, X7, X8, X9, y)\n",
    "    return data_ds\n",
    "\n",
    "def create_dataloaders(train_ds, valid_ds, bs=128):\n",
    "    train_dl = DataLoader(train_ds, bs, shuffle=True)\n",
    "    valid_dl = DataLoader(valid_ds, bs, shuffle=False)\n",
    "    return train_dl, valid_dl  \n",
    "\n",
    "def test_dataloaders(test_ds, bs=128):\n",
    "    test_dl = DataLoader(valid_ds, bs, shuffle=False)\n",
    "    return test_dl  "
   ]
  },
  {
   "cell_type": "code",
   "execution_count": 4,
   "metadata": {},
   "outputs": [],
   "source": [
    "class Net_1DCNN(nn.Module):\n",
    "    def __init__(self):\n",
    "        super().__init__()\n",
    "        self.conv1 = nn.Conv1d(1, 100, 100, 60)   \n",
    "        self.conv2 = nn.Conv1d(100, 100, 10, 1) \n",
    "        self.mp = nn.MaxPool1d(2)\n",
    "        self.fc = nn.Sequential(nn.Linear(100*45,100), nn.ReLU())\n",
    "    \n",
    "    def forward(self, x):\n",
    "        x = x.permute(0, 2, 1)\n",
    "        x = self.conv1(x)\n",
    "        x = self.conv2(x)\n",
    "        x = self.mp(x)\n",
    "        x = x.view(x.size(0),-1)\n",
    "        x = self.fc(x)\n",
    "        return x\n",
    "    \n"
   ]
  },
  {
   "cell_type": "code",
   "execution_count": 5,
   "metadata": {},
   "outputs": [],
   "source": [
    "class MyEnsemble(nn.Module):\n",
    "    def __init__(self, Net_1DCNN, output_dim):\n",
    "        super(MyEnsemble, self).__init__()        \n",
    "        self.cnn = Net_1DCNN\n",
    "        self.fc = nn.Sequential(nn.Linear(900,100), nn.ReLU())\n",
    "        self.classifier = nn.Sequential(nn.Linear(100, output_dim), nn.Softmax(dim=1))\n",
    "        \n",
    "    def forward(self, x1, x2, x3, x4, x5, x6, x7, x8, x9):\n",
    "        x1 = self.cnn(x1)\n",
    "        x2 = self.cnn(x2)\n",
    "        x3 = self.cnn(x3)\n",
    "        x4 = self.cnn(x4)\n",
    "        x5 = self.cnn(x5)\n",
    "        x6 = self.cnn(x6)\n",
    "        x7 = self.cnn(x7)\n",
    "        x8 = self.cnn(x8)\n",
    "        x9 = self.cnn(x9)        \n",
    "        x = torch.cat((x1, x2, x3, x4, x5, x6, x7, x8, x9), dim=1)\n",
    "        x = self.fc(x)\n",
    "        x = self.classifier(x)\n",
    "        return x"
   ]
  },
  {
   "cell_type": "code",
   "execution_count": 6,
   "metadata": {},
   "outputs": [],
   "source": [
    "def rms(y):\n",
    "    return np.sqrt(np.mean(y**2))    "
   ]
  },
  {
   "cell_type": "markdown",
   "metadata": {
    "colab_type": "text",
    "id": "kRLY4aryS8v7"
   },
   "source": [
    "**DATA PREPARATION**\n",
    "---"
   ]
  },
  {
   "cell_type": "code",
   "execution_count": 7,
   "metadata": {
    "colab": {},
    "colab_type": "code",
    "id": "V9BxLbnV9hAo"
   },
   "outputs": [],
   "source": [
    "work = []\n",
    "signal = []\n",
    "list_file = ['time_serie_1.p', 'time_serie_2.p', 'time_serie_3.p', 'time_serie_4.p', 'time_serie_5.p', 'time_serie_6.p']\n",
    "\n",
    "for file in list_file:\n",
    "  with open(file,'rb') as f:\n",
    "        while True:\n",
    "          try:\n",
    "            u = pickle._Unpickler(f)\n",
    "            u.encoding = 'latin1' \n",
    "            p = u.load()      \n",
    "            A = p['acc']\n",
    "            signal.append(A)\n",
    "            work.append(p['jobname'])\n",
    "\n",
    "          except EOFError:\n",
    "            break            \n"
   ]
  },
  {
   "cell_type": "code",
   "execution_count": 8,
   "metadata": {},
   "outputs": [],
   "source": [
    "df = pd.read_csv('compare_single.csv')\n",
    "s = df['label_s'].to_list()\n",
    "job = df['jobname'].to_list()\n",
    "\n",
    "label = {}\n",
    "for i in range(len(job)):\n",
    "#     lab = -1\n",
    "#     if s[i] == 0:\n",
    "#         lab = s[i]\n",
    "#     if s[i] == 3:\n",
    "#         lab = s[i]\n",
    "        \n",
    "#     label[int(job[i])] = int(lab)\n",
    "    label[int(job[i])] = s[i]\n"
   ]
  },
  {
   "cell_type": "code",
   "execution_count": 9,
   "metadata": {},
   "outputs": [],
   "source": [
    "y = []\n",
    "for i in range(len(work)):\n",
    "    y.append(label[int(work[i])])\n",
    "\n",
    "y = np.array(y)    \n"
   ]
  },
  {
   "cell_type": "code",
   "execution_count": 10,
   "metadata": {},
   "outputs": [],
   "source": [
    "signal = np.array(signal)[:,:6000,:]\n",
    "signal0=signal\n",
    "list_id = np.where(y!=-1)\n",
    "\n",
    "signal0 = signal0[list_id]\n",
    "y = y[list_id]\n"
   ]
  },
  {
   "cell_type": "code",
   "execution_count": 11,
   "metadata": {},
   "outputs": [],
   "source": [
    "le = LabelEncoder()\n",
    "le.fit(np.unique(y))\n",
    "y = le.transform(y)"
   ]
  },
  {
   "cell_type": "code",
   "execution_count": 12,
   "metadata": {
    "colab": {},
    "colab_type": "code",
    "id": "aIG-Fi71FvWg"
   },
   "outputs": [],
   "source": [
    "Xmax = np.max(signal0)\n",
    "Xmin = np.min(signal0)\n",
    "signal0 = (signal0 - Xmin) / (Xmax-Xmin)"
   ]
  },
  {
   "cell_type": "code",
   "execution_count": 13,
   "metadata": {},
   "outputs": [],
   "source": [
    "v_rms= rms(signal0)"
   ]
  },
  {
   "cell_type": "code",
   "execution_count": 14,
   "metadata": {},
   "outputs": [],
   "source": [
    "signal1 = signal0 + 0.001*v_rms*np.random.normal(0.0, 1.0, np.shape(signal0))\n",
    "signal2 = signal0 + 0.001*v_rms*np.random.normal(0.0, 1.0, np.shape(signal0))\n",
    "signal3 = signal0 + 0.001*v_rms*np.random.normal(0.0, 1.0, np.shape(signal0))\n",
    "# signal4 = signal0 + 0.001*v_rms*np.random.normal(0.0, 1.0, np.shape(signal0))\n",
    "# signal5 = signal0 + 0.001*v_rms*np.random.normal(0.0, 1.0, np.shape(signal0))"
   ]
  },
  {
   "cell_type": "code",
   "execution_count": 15,
   "metadata": {},
   "outputs": [],
   "source": [
    "yy = np.concatenate((y,y,y,y),axis=0)\n",
    "# yy = y"
   ]
  },
  {
   "cell_type": "code",
   "execution_count": 16,
   "metadata": {},
   "outputs": [],
   "source": [
    "X = np.concatenate((signal0, signal1, signal2, signal3),axis=0)\n",
    "# X = signal0"
   ]
  },
  {
   "cell_type": "code",
   "execution_count": 17,
   "metadata": {},
   "outputs": [],
   "source": [
    "# import sys\n",
    "\n",
    "# # These are the usual ipython objects, including this one you are creating\n",
    "# ipython_vars = ['In', 'Out', 'exit', 'quit', 'get_ipython', 'ipython_vars']\n",
    "\n",
    "# # Get a sorted list of the objects and their sizes\n",
    "# sorted([(x, int(sys.getsizeof(globals().get(x))/1024**3)) for x in dir() if not x.startswith('_') and x not in sys.modules and x not in ipython_vars], key=lambda x: x[1], reverse=True)"
   ]
  },
  {
   "cell_type": "code",
   "execution_count": 18,
   "metadata": {},
   "outputs": [
    {
     "name": "stdout",
     "output_type": "stream",
     "text": [
      "(12296, 6000, 9) (12296,)\n"
     ]
    }
   ],
   "source": [
    "print(np.shape(X), np.shape(yy))"
   ]
  },
  {
   "cell_type": "code",
   "execution_count": 19,
   "metadata": {
    "colab": {},
    "colab_type": "code",
    "id": "DUhGhuGukH1g"
   },
   "outputs": [],
   "source": [
    "X_trv, X_test, y_trv, y_test = create_data(X, yy)\n",
    "X_train, X_valid, y_train, y_valid = create_data(X_trv, y_trv)\n",
    "\n",
    "X1_train = X_train[:,:,0] \n",
    "X2_train = X_train[:,:,1] \n",
    "X3_train = X_train[:,:,2] \n",
    "X4_train = X_train[:,:,3] \n",
    "X5_train = X_train[:,:,4] \n",
    "X6_train = X_train[:,:,5] \n",
    "X7_train = X_train[:,:,6] \n",
    "X8_train = X_train[:,:,7] \n",
    "X9_train = X_train[:,:,8] \n",
    "\n",
    "X1_valid = X_valid[:,:,0] \n",
    "X2_valid = X_valid[:,:,1] \n",
    "X3_valid = X_valid[:,:,2] \n",
    "X4_valid = X_valid[:,:,3] \n",
    "X5_valid = X_valid[:,:,4] \n",
    "X6_valid = X_valid[:,:,5] \n",
    "X7_valid = X_valid[:,:,6] \n",
    "X8_valid = X_valid[:,:,7] \n",
    "X9_valid = X_valid[:,:,8] \n",
    "\n",
    "X1_test = X_test[:,:,0] \n",
    "X2_test = X_test[:,:,1] \n",
    "X3_test = X_test[:,:,2] \n",
    "X4_test = X_test[:,:,3] \n",
    "X5_test = X_test[:,:,4] \n",
    "X6_test = X_test[:,:,5] \n",
    "X7_test = X_test[:,:,6] \n",
    "X8_test = X_test[:,:,7] \n",
    "X9_test = X_test[:,:,8] \n",
    "\n",
    "X1_train =X1_train.reshape(X1_train.shape[0], -1, 1)\n",
    "X2_train =X2_train.reshape(X2_train.shape[0], -1, 1)\n",
    "X3_train =X3_train.reshape(X3_train.shape[0], -1, 1)\n",
    "X4_train =X4_train.reshape(X4_train.shape[0], -1, 1)\n",
    "X5_train =X5_train.reshape(X5_train.shape[0], -1, 1)\n",
    "X6_train =X6_train.reshape(X6_train.shape[0], -1, 1)\n",
    "X7_train =X7_train.reshape(X7_train.shape[0], -1, 1)\n",
    "X8_train =X8_train.reshape(X8_train.shape[0], -1, 1)\n",
    "X9_train =X9_train.reshape(X9_train.shape[0], -1, 1)\n",
    "\n",
    "X1_valid =X1_valid.reshape(X1_valid.shape[0], -1, 1)\n",
    "X2_valid =X2_valid.reshape(X2_valid.shape[0], -1, 1)\n",
    "X3_valid =X3_valid.reshape(X3_valid.shape[0], -1, 1)\n",
    "X4_valid =X4_valid.reshape(X4_valid.shape[0], -1, 1)\n",
    "X5_valid =X5_valid.reshape(X5_valid.shape[0], -1, 1)\n",
    "X6_valid =X6_valid.reshape(X6_valid.shape[0], -1, 1)\n",
    "X7_valid =X7_valid.reshape(X7_valid.shape[0], -1, 1)\n",
    "X8_valid =X8_valid.reshape(X8_valid.shape[0], -1, 1)\n",
    "X9_valid =X9_valid.reshape(X9_valid.shape[0], -1, 1)\n",
    "\n",
    "\n",
    "X1_test =X1_test.reshape(X1_test.shape[0], -1, 1)\n",
    "X2_test =X2_test.reshape(X2_test.shape[0], -1, 1)\n",
    "X3_test =X3_test.reshape(X3_test.shape[0], -1, 1)\n",
    "X4_test =X4_test.reshape(X4_test.shape[0], -1, 1)\n",
    "X5_test =X5_test.reshape(X5_test.shape[0], -1, 1)\n",
    "X6_test =X6_test.reshape(X6_test.shape[0], -1, 1)\n",
    "X7_test =X7_test.reshape(X7_test.shape[0], -1, 1)\n",
    "X8_test =X8_test.reshape(X8_test.shape[0], -1, 1)\n",
    "X9_test =X9_test.reshape(X9_test.shape[0], -1, 1)\n",
    "\n",
    "\n",
    "\n",
    "train_ds = create_datasets(X1_train, X2_train, X3_train, X4_train, X5_train, X6_train, X7_train, X8_train, X9_train, y_train)\n",
    "valid_ds = create_datasets(X1_valid, X2_valid, X3_valid, X4_valid, X5_valid, X6_valid, X7_valid, X8_valid, X9_valid, y_valid)\n",
    "test_ds = create_datasets(X1_test, X2_test, X3_test, X4_test, X5_test, X6_test, X7_test, X8_test, X9_test, y_test)\n",
    "train_dl, valid_dl = create_dataloaders(train_ds, valid_ds)\n",
    "test_dl = test_dataloaders(test_ds, bs=len(y_test))"
   ]
  },
  {
   "cell_type": "code",
   "execution_count": 26,
   "metadata": {
    "colab": {},
    "colab_type": "code",
    "id": "wo7HpPPXl7I7"
   },
   "outputs": [
    {
     "name": "stdout",
     "output_type": "stream",
     "text": [
      "Epoch:   3. Loss: 1.3867. Acc.: 25.65%\n",
      "Epoch:   6. Loss: 1.2822. Acc.: 43.27%\n",
      "Epoch:   9. Loss: 1.2475. Acc.: 48.96%\n",
      "Epoch:  12. Loss: 1.2021. Acc.: 57.00%\n",
      "Epoch:  15. Loss: 1.1631. Acc.: 58.81%\n",
      "Epoch:  18. Loss: 1.0718. Acc.: 61.97%\n",
      "Epoch:  21. Loss: 1.0362. Acc.: 65.13%\n",
      "Epoch:  24. Loss: 1.0133. Acc.: 68.29%\n",
      "Epoch:  27. Loss: 1.0836. Acc.: 69.74%\n",
      "Epoch:  30. Loss: 0.9675. Acc.: 72.09%\n",
      "Epoch:  33. Loss: 1.0143. Acc.: 71.73%\n",
      "Epoch:  36. Loss: 0.9640. Acc.: 73.17%\n",
      "Epoch:  39. Loss: 0.9663. Acc.: 73.89%\n",
      "Epoch:  42. Loss: 0.9583. Acc.: 74.71%\n",
      "Epoch:  45. Loss: 0.9854. Acc.: 75.07%\n",
      "Epoch:  48. Loss: 1.0432. Acc.: 76.33%\n",
      "Epoch:  51. Loss: 1.0131. Acc.: 77.60%\n",
      "Epoch:  54. Loss: 0.9120. Acc.: 79.04%\n",
      "Epoch:  57. Loss: 0.8807. Acc.: 79.86%\n",
      "Epoch:  60. Loss: 0.9719. Acc.: 79.58%\n",
      "Epoch:  63. Loss: 0.8897. Acc.: 80.49%\n",
      "Epoch:  66. Loss: 0.9241. Acc.: 80.85%\n",
      "Epoch:  69. Loss: 0.9188. Acc.: 81.75%\n",
      "Epoch:  72. Loss: 0.8850. Acc.: 82.02%\n",
      "Epoch:  75. Loss: 0.8756. Acc.: 82.20%\n",
      "Epoch:  78. Loss: 0.9063. Acc.: 82.11%\n",
      "Epoch:  81. Loss: 0.8619. Acc.: 83.02%\n",
      "Epoch:  84. Loss: 0.8962. Acc.: 82.84%\n",
      "Epoch:  87. Loss: 0.8576. Acc.: 83.02%\n",
      "Epoch:  90. Loss: 0.8622. Acc.: 83.20%\n",
      "Epoch:  93. Loss: 0.8934. Acc.: 83.38%\n",
      "Epoch:  96. Loss: 0.9221. Acc.: 83.74%\n",
      "Epoch:  99. Loss: 0.8831. Acc.: 83.74%\n",
      "Epoch: 102. Loss: 0.9364. Acc.: 83.74%\n",
      "Epoch: 105. Loss: 0.8602. Acc.: 83.92%\n",
      "Epoch: 108. Loss: 0.8740. Acc.: 84.01%\n",
      "Epoch: 111. Loss: 0.8772. Acc.: 84.10%\n",
      "Epoch: 114. Loss: 0.8982. Acc.: 84.10%\n",
      "Epoch: 117. Loss: 0.8528. Acc.: 84.10%\n",
      "Epoch: 120. Loss: 0.8407. Acc.: 84.10%\n",
      "Epoch: 123. Loss: 0.9076. Acc.: 84.10%\n",
      "Epoch: 126. Loss: 0.9358. Acc.: 83.92%\n",
      "Epoch: 129. Loss: 0.8792. Acc.: 84.28%\n",
      "Epoch: 132. Loss: 0.8886. Acc.: 84.37%\n",
      "Epoch: 135. Loss: 0.9353. Acc.: 84.28%\n",
      "Epoch: 138. Loss: 0.9002. Acc.: 84.10%\n",
      "Epoch: 141. Loss: 0.8582. Acc.: 84.37%\n",
      "Epoch: 144. Loss: 0.8396. Acc.: 84.37%\n",
      "Epoch: 147. Loss: 0.8997. Acc.: 84.19%\n",
      "Epoch: 150. Loss: 0.8766. Acc.: 84.37%\n",
      "Epoch: 153. Loss: 0.8796. Acc.: 79.40%\n",
      "Epoch: 156. Loss: 0.9089. Acc.: 84.37%\n",
      "Epoch: 159. Loss: 0.8880. Acc.: 84.37%\n",
      "Epoch: 162. Loss: 0.8867. Acc.: 84.37%\n",
      "Epoch: 165. Loss: 0.9254. Acc.: 84.46%\n",
      "Epoch: 168. Loss: 0.9070. Acc.: 84.46%\n",
      "Epoch: 171. Loss: 0.9367. Acc.: 84.46%\n",
      "Epoch: 174. Loss: 0.8965. Acc.: 84.46%\n",
      "Epoch: 177. Loss: 0.9168. Acc.: 84.46%\n",
      "Epoch: 180. Loss: 0.8701. Acc.: 84.46%\n",
      "Epoch: 183. Loss: 0.9171. Acc.: 84.46%\n",
      "Epoch: 186. Loss: 0.8400. Acc.: 84.37%\n",
      "Epoch: 189. Loss: 0.8979. Acc.: 84.46%\n",
      "Epoch: 192. Loss: 0.8137. Acc.: 84.01%\n",
      "Epoch: 195. Loss: 0.8900. Acc.: 84.37%\n",
      "Epoch: 198. Loss: 0.8784. Acc.: 84.19%\n",
      "Epoch: 201. Loss: 0.9159. Acc.: 84.37%\n",
      "Epoch: 204. Loss: 0.8588. Acc.: 84.46%\n",
      "Epoch: 207. Loss: 0.9090. Acc.: 84.46%\n",
      "Epoch: 210. Loss: 0.8662. Acc.: 84.82%\n",
      "Epoch: 213. Loss: 0.8944. Acc.: 84.91%\n",
      "Epoch: 216. Loss: 0.8309. Acc.: 84.64%\n",
      "Epoch: 219. Loss: 0.9075. Acc.: 84.91%\n",
      "Epoch: 222. Loss: 0.8392. Acc.: 84.91%\n",
      "Epoch: 225. Loss: 0.8389. Acc.: 84.82%\n",
      "Epoch: 228. Loss: 0.9268. Acc.: 84.91%\n",
      "Epoch: 231. Loss: 0.8984. Acc.: 84.91%\n",
      "Epoch: 234. Loss: 0.8971. Acc.: 84.82%\n",
      "Epoch: 237. Loss: 0.8202. Acc.: 84.82%\n",
      "Epoch: 240. Loss: 0.8874. Acc.: 84.55%\n",
      "Epoch: 243. Loss: 0.8995. Acc.: 84.91%\n",
      "Epoch: 246. Loss: 0.8783. Acc.: 84.64%\n",
      "Epoch: 249. Loss: 0.8661. Acc.: 84.64%\n",
      "Epoch: 252. Loss: 0.8208. Acc.: 84.91%\n",
      "Epoch: 255. Loss: 0.8395. Acc.: 84.64%\n",
      "Epoch: 285. Loss: 0.8591. Acc.: 85.37%\n",
      "Epoch: 288. Loss: 0.8012. Acc.: 85.37%\n",
      "Epoch: 291. Loss: 0.8976. Acc.: 85.37%\n",
      "Epoch: 294. Loss: 0.8790. Acc.: 85.37%\n",
      "Epoch: 297. Loss: 0.8202. Acc.: 85.28%\n",
      "Epoch: 300. Loss: 0.8490. Acc.: 85.37%\n",
      "Time:  1189.1421362289984\n"
     ]
    }
   ],
   "source": [
    "step_dim = np.shape(X)[1]\n",
    "output_dim = len(np.unique(yy))\n",
    "\n",
    "cnn1D = Net_1DCNN()\n",
    "model = MyEnsemble(cnn1D, output_dim)\n",
    "model = model.cuda()\n",
    "\n",
    "lr = 0.0001\n",
    "n_epochs = 300\n",
    "best_acc = 0\n",
    "\n",
    "criterion = nn.CrossEntropyLoss()\n",
    "optimizer = torch.optim.Adam(model.parameters(), lr=lr)\n",
    "\n",
    "train_loss = []\n",
    "valid_acc = []\n",
    "start = timeit.default_timer()\n",
    "\n",
    "for epoch in range(1, n_epochs + 1):   \n",
    "    for i, (x1_train, x2_train, x3_train, x4_train, x5_train, x6_train, x7_train, x8_train, x9_train, y_train) in enumerate(train_dl):\n",
    "        model.train()\n",
    "        x1_train, x2_train, x3_train, x4_train, x5_train, x6_train, x7_train, x8_train, x9_train, y_train = [t.cuda() for t in (x1_train, x2_train, x3_train, x4_train, x5_train, x6_train, x7_train, x8_train, x9_train, y_train)]\n",
    "        optimizer.zero_grad()\n",
    "        output = model(x1_train, x2_train, x3_train, x4_train, x5_train, x6_train, x7_train, x8_train, x9_train)\n",
    "        loss = criterion(output, y_train)\n",
    "        loss.backward()\n",
    "        optimizer.step()\n",
    "    \n",
    "    if epoch % 3 == 0:\n",
    "        model.eval()        \n",
    "        Ncorrect, Nsample = 0, 0\n",
    "        for x1_val, x2_val, x3_val, x4_val, x5_val, x6_val, x7_val, x8_val, x9_val, y_val in valid_dl:\n",
    "            x1_val, x2_val, x3_val, x4_val, x5_val, x6_val, x7_val, x8_val, x9_val, y_val = [t.cuda() for t in (x1_val, x2_val, x3_val, x4_val, x5_val, x6_val, x7_val, x8_val, x9_val, y_val)]\n",
    "            out = model(x1_val, x2_val, x3_val, x4_val, x5_val, x6_val, x7_val, x8_val, x9_val)\n",
    "            preds = F.log_softmax(out, dim=1).argmax(dim=1)\n",
    "            Nsample += y_val.size(0)\n",
    "            Ncorrect += (preds == y_val).sum().item()\n",
    "\n",
    "        acc = Ncorrect / Nsample   \n",
    "        valid_acc.append(acc)\n",
    "        train_loss.append(loss.item())        \n",
    "        print(f'Epoch: {epoch:3d}. Loss: {loss.item():.4f}. Acc.: {acc:2.2%}')\n",
    "\n",
    "#     if acc > best_acc:\n",
    "#         best_acc = acc\n",
    "#         torch.save(model.state_dict(), 'best.pth')\n",
    "#         print(f'Epoch {epoch} best model saved with accuracy: {best_acc:2.2%}')\n",
    "\n",
    "stop = timeit.default_timer()\n",
    "print('Time: ', stop - start)  "
   ]
  },
  {
   "cell_type": "code",
   "execution_count": 1,
   "metadata": {},
   "outputs": [
    {
     "data": {
      "text/plain": [
       "3.9633333333333334"
      ]
     },
     "execution_count": 1,
     "metadata": {},
     "output_type": "execute_result"
    }
   ],
   "source": [
    "1189/300"
   ]
  },
  {
   "cell_type": "markdown",
   "metadata": {
    "colab_type": "text",
    "id": "IWGJUHtJTe5d"
   },
   "source": [
    "**VISUALIZATION**\n",
    "---"
   ]
  },
  {
   "cell_type": "code",
   "execution_count": 38,
   "metadata": {
    "colab": {
     "base_uri": "https://localhost:8080/",
     "height": 85
    },
    "colab_type": "code",
    "id": "jmK0yAE6BSiH",
    "outputId": "aff4ccd0-6a9f-439e-a744-5ab371baf9e7"
   },
   "outputs": [
    {
     "data": {
      "image/png": "[encoded data removed]",
      "text/plain": [
       "<Figure size 576x432 with 2 Axes>"
      ]
     },
     "metadata": {
      "needs_background": "light"
     },
     "output_type": "display_data"
    }
   ],
   "source": [
    "import matplotlib.pyplot as plt\n",
    "import matplotlib\n",
    "%matplotlib inline\n",
    "matplotlib.use('Agg')\n",
    "# %matplotlib inline\n",
    "from matplotlib import rcParams, rc\n",
    "rcParams['font.family'] = 'serif'\n",
    "rcParams['font.sans-serif'] = ['Time New Roman']\n",
    "rcParams.update({'font.size': 10})\n",
    "\n",
    "fig, ax1 = plt.subplots(figsize=(8,6))\n",
    "fsize = 20\n",
    "\n",
    "ax2 = ax1.twinx()\n",
    "nepo = (np.arange(len(valid_acc))+1)*3\n",
    "\n",
    "id = np.arange(len(nepo))\n",
    "id = id[id!=50]\n",
    "train_loss = np.array(train_loss)\n",
    "valid_acc = np.array(valid_acc)\n",
    "\n",
    "ax1.plot(nepo[id], train_loss[id], linewidth=2.0)\n",
    "ax2.plot(nepo[id], valid_acc[id],'r', linewidth=2.0)\n",
    "\n",
    "ax1.set_xlabel('Number of epochs', fontsize=fsize)\n",
    "ax1.set_ylabel('Training loss', fontsize=fsize)\n",
    "ax2.set_ylabel('Validation accuracy', fontsize=fsize)\n",
    "\n",
    "\n",
    "ax1.set_xlim(-1, 300)\n",
    "ax1.set_ylim(0.0, 1.6)\n",
    "ax2.set_ylim(0.2, 1.0)\n",
    "# ax1.axvline(x=0, color='k')\n",
    "# ax2.axvline(x=300, color='k')\n",
    "\n",
    "# ax2.axhline(y=0.2, color='k')\n",
    "# ax1.axhline(y=1.598, color='k')\n",
    "ax1.xaxis.tick_bottom()\n",
    "\n",
    "\n",
    "# Set the tick labels font\n",
    "for label in (ax1.get_xticklabels() + ax1.get_yticklabels() + ax2.get_yticklabels()):\n",
    "    label.set_fontsize(fsize)\n",
    "\n",
    "# ax1.set_yticks([0.7, 0.9, 1.1, 1.3, 1.5])    \n",
    "ax2.set_yticks([0.2, 0.4, 0.6, 0.8, 1.0])   \n",
    "    \n",
    "# Hide grid lines\n",
    "ax1.grid(False)        \n",
    "ax2.grid(False)        \n",
    "plt.tight_layout()\n",
    "# ax1.legend(['Train_loss', 'Val_acc'], loc='upper right')\n",
    "\n",
    "plt.show()\n",
    "plt.savefig('1DCNN_severity_Loss.png', transparent=True)\n",
    "\n"
   ]
  },
  {
   "cell_type": "code",
   "execution_count": 32,
   "metadata": {},
   "outputs": [
    {
     "data": {
      "text/plain": [
       "[0.7940379403794038,\n",
       " 0.8437217705510388,\n",
       " 0.8437217705510388,\n",
       " 0.8437217705510388,\n",
       " 0.8446251129177959,\n",
       " 0.8446251129177959,\n",
       " 0.8446251129177959,\n",
       " 0.8446251129177959,\n",
       " 0.8446251129177959,\n",
       " 0.8446251129177959]"
      ]
     },
     "execution_count": 32,
     "metadata": {},
     "output_type": "execute_result"
    }
   ],
   "source": [
    "valid_acc[50]"
   ]
  },
  {
   "cell_type": "code",
   "execution_count": null,
   "metadata": {},
   "outputs": [],
   "source": []
  },
  {
   "cell_type": "code",
   "execution_count": null,
   "metadata": {},
   "outputs": [],
   "source": []
  },
  {
   "cell_type": "code",
   "execution_count": null,
   "metadata": {},
   "outputs": [],
   "source": []
  },
  {
   "cell_type": "code",
   "execution_count": 40,
   "metadata": {},
   "outputs": [
    {
     "name": "stdout",
     "output_type": "stream",
     "text": [
      "tensor([[272.,   3.,   1.,   1.],\n",
      "        [ 29., 236.,  10.,  17.],\n",
      "        [ 23.,  36., 206.,  19.],\n",
      "        [  2.,  16.,   5., 231.]])\n"
     ]
    }
   ],
   "source": [
    "nb_classes = output_dim\n",
    "\n",
    "confusion_matrix = torch.zeros(nb_classes, nb_classes)\n",
    "\n",
    "test_dl = test_dataloaders(test_ds)\n",
    "y_pred = []\n",
    "y_actual = []\n",
    "with torch.no_grad():\n",
    "    for x1_test, x2_test, x3_test, x4_test, x5_test, x6_test, x7_test, x8_test, x9_test, y0_test in test_dl:\n",
    "        x1_test, x2_test, x3_test, x4_test, x5_test, x6_test, x7_test, x8_test, x9_test, y0_test = [t.cuda() for t in (x1_test, x2_test, x3_test, x4_test, x5_test, x6_test, x7_test, x8_test, x9_test, y0_test)]\n",
    "        out = model(x1_test, x2_test, x3_test, x4_test, x5_test, x6_test, x7_test, x8_test, x9_test)\n",
    "        _, preds = torch.max(out, 1)\n",
    "        y_pred += preds.view(-1).tolist()\n",
    "        y_actual += y0_test.view(-1).tolist()\n",
    "        for t, p in zip(y0_test.view(-1), preds.view(-1)):\n",
    "                confusion_matrix[t.long(), p.long()] += 1\n",
    "\n",
    "print(confusion_matrix)"
   ]
  },
  {
   "cell_type": "code",
   "execution_count": 41,
   "metadata": {
    "colab": {
     "base_uri": "https://localhost:8080/",
     "height": 764
    },
    "colab_type": "code",
    "id": "809FPpO3Linu",
    "outputId": "8de95b0c-828d-4399-9144-b2611c599519"
   },
   "outputs": [
    {
     "name": "stdout",
     "output_type": "stream",
     "text": [
      "              precision    recall  f1-score   support\n",
      "\n",
      "           0       0.83      0.98      0.90       277\n",
      "           1       0.81      0.81      0.81       292\n",
      "           2       0.93      0.73      0.81       284\n",
      "           3       0.86      0.91      0.89       254\n",
      "\n",
      "    accuracy                           0.85      1107\n",
      "   macro avg       0.86      0.86      0.85      1107\n",
      "weighted avg       0.86      0.85      0.85      1107\n",
      "\n"
     ]
    },
    {
     "data": {
      "image/png": "[encoded data removed]",
      "text/plain": [
       "<Figure size 576x432 with 2 Axes>"
      ]
     },
     "metadata": {
      "needs_background": "light"
     },
     "output_type": "display_data"
    }
   ],
   "source": [
    "from sklearn.metrics import confusion_matrix\n",
    "from sklearn.metrics import classification_report\n",
    "\n",
    "import seaborn as sns\n",
    "import matplotlib.pyplot as plt\n",
    "\n",
    "print(classification_report(y_actual, y_pred))\n",
    "cm =confusion_matrix(y_actual, y_pred)  \n",
    "\n",
    "# index = np.arange(0,output_dim)\n",
    "# columns = np.arange(0,output_dim)\n",
    "index = ['Healthy', 'Minor', 'Medium', 'Severe']\n",
    "columns = ['Healthy', 'Minor', 'Medium', 'Severe']\n",
    "\n",
    "\n",
    "cm_df = pd.DataFrame(cm,columns,index)                      \n",
    "plt.figure(figsize=(8,6))  \n",
    "cm_df.index.name = 'Actual'\n",
    "cm_df.columns.name = 'Predicted'\n",
    "sns.set(font_scale=1.6)\n",
    "sns.set_style({'font.family':'serif', 'font.serif':['Times New Roman']})\n",
    "g= sns.heatmap(cm_df, annot=True, cmap= \"YlGnBu\", fmt='g', vmin=20, vmax=250)\n",
    "\n",
    "g.set(ylim=(len(cm_df), 0))\n",
    "\n",
    "plt.tight_layout()\n",
    "plt.savefig('1DCNN_severity.png')"
   ]
  },
  {
   "cell_type": "code",
   "execution_count": null,
   "metadata": {},
   "outputs": [],
   "source": [
    "plt.hist(yy)"
   ]
  },
  {
   "cell_type": "code",
   "execution_count": null,
   "metadata": {},
   "outputs": [],
   "source": []
  }
 ],
 "metadata": {
  "accelerator": "GPU",
  "colab": {
   "collapsed_sections": [],
   "name": "MLP_raw_2.ipynb",
   "provenance": [],
   "version": "0.3.2"
  },
  "kernelspec": {
   "display_name": "Python 3",
   "language": "python",
   "name": "python3"
  },
  "language_info": {
   "codemirror_mode": {
    "name": "ipython",
    "version": 3
   },
   "file_extension": ".py",
   "mimetype": "text/x-python",
   "name": "python",
   "nbconvert_exporter": "python",
   "pygments_lexer": "ipython3",
   "version": "3.6.5"
  }
 },
 "nbformat": 4,
 "nbformat_minor": 1
}
