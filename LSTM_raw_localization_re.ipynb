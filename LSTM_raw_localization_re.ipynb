{
 "cells": [
  {
   "cell_type": "code",
   "execution_count": 1,
   "metadata": {
    "colab": {},
    "colab_type": "code",
    "id": "RUrp62pHSuCN"
   },
   "outputs": [],
   "source": [
    "\n",
    "import numpy as np\n",
    "import pandas as pd\n",
    "import torch\n",
    "from torch.utils.data import TensorDataset, DataLoader,Dataset\n",
    "import torch.nn as nn\n",
    "import torch.nn.functional as F\n",
    "import torchvision\n",
    "import torchvision.transforms as transforms\n",
    "import torch.optim as optim\n",
    "from torch.optim import lr_scheduler\n",
    "import time\n",
    "from sklearn.metrics import accuracy_score\n",
    "import time\n",
    "from IPython.display import HTML\n",
    "import json\n",
    "from sklearn.preprocessing import LabelEncoder\n",
    "\n",
    "import torch.utils.data\n",
    "from sklearn.model_selection import train_test_split\n",
    "\n",
    "from sklearn.preprocessing import StandardScaler\n",
    "from sklearn.model_selection import StratifiedKFold, KFold, RepeatedKFold, train_test_split, GroupKFold, GroupShuffleSplit"
   ]
  },
  {
   "cell_type": "code",
   "execution_count": 2,
   "metadata": {
    "colab": {},
    "colab_type": "code",
    "id": "-8-RADcjZK1y"
   },
   "outputs": [],
   "source": [
    "import timeit\n",
    "import pandas as pd\n",
    "import numpy as np\n",
    "import matplotlib.pyplot as plt\n",
    "%matplotlib inline\n",
    "import pickle\n",
    "from sklearn.model_selection import train_test_split\n",
    "from sklearn.preprocessing import LabelEncoder"
   ]
  },
  {
   "cell_type": "code",
   "execution_count": 3,
   "metadata": {
    "colab": {},
    "colab_type": "code",
    "id": "usa-FPRMa0n7"
   },
   "outputs": [],
   "source": [
    "def create_data(X, y):  \n",
    "    X_train, X_valid, y_train, y_valid = train_test_split(X, y, test_size=0.1)\n",
    "    return X_train, X_valid, y_train, y_valid  \n",
    "\n",
    "def create_datasets(X1, X2, X3, X4, X5, X6, X7, X8, X9, y):\n",
    "    X1 = torch.tensor(X1, dtype=torch.float32) \n",
    "    X2 = torch.tensor(X2, dtype=torch.float32) \n",
    "    X3 = torch.tensor(X3, dtype=torch.float32) \n",
    "    X4 = torch.tensor(X4, dtype=torch.float32) \n",
    "    X5 = torch.tensor(X5, dtype=torch.float32) \n",
    "    X6 = torch.tensor(X6, dtype=torch.float32)     \n",
    "    X7 = torch.tensor(X7, dtype=torch.float32) \n",
    "    X8 = torch.tensor(X8, dtype=torch.float32) \n",
    "    X9 = torch.tensor(X9, dtype=torch.float32)     \n",
    "    \n",
    "    y = torch.tensor(y, dtype=torch.long)\n",
    "    data_ds = TensorDataset(X1, X2, X3, X4, X5, X6, X7, X8, X9, y)\n",
    "    return data_ds\n",
    "\n",
    "def create_dataloaders(train_ds, valid_ds, bs=128):\n",
    "    train_dl = DataLoader(train_ds, bs, shuffle=True)\n",
    "    valid_dl = DataLoader(valid_ds, bs, shuffle=False)\n",
    "    return train_dl, valid_dl  \n",
    "\n",
    "def test_dataloaders(test_ds, bs=128):\n",
    "    test_dl = DataLoader(valid_ds, bs, shuffle=False)\n",
    "    return test_dl  "
   ]
  },
  {
   "cell_type": "code",
   "execution_count": 4,
   "metadata": {},
   "outputs": [],
   "source": [
    "class LSTMClassifier(nn.Module):\n",
    "    def __init__(self, input_dim=1, hidden_dim=100, layer_dim=1, output_dim=100):\n",
    "        super().__init__()\n",
    "        self.hidden_dim = hidden_dim\n",
    "        self.layer_dim = layer_dim\n",
    "        self.conv = nn.Conv1d(1, 100, 100, 60)   \n",
    "        self.lstm = nn.LSTM(100, hidden_dim, layer_dim, batch_first=True, bidirectional = False)\n",
    "        self.dropout = nn.Dropout(0.1)\n",
    "        self.batch_size = None\n",
    "        self.hidden = None\n",
    "    \n",
    "    def forward(self, x):\n",
    "        x = x.permute(0, 2, 1)\n",
    "        x = self.conv(x)\n",
    "        x = x.permute(0, 2, 1)\n",
    "        h0, c0 = self.init_hidden(x)\n",
    "        out, (hn, cn) = self.lstm(x, (h0, c0)) # out shape: N_batch x output_dim x hidden_dim\n",
    "        out = self.dropout(out[:, -1, :]) # Only take the output from the final timetep\n",
    "        return out\n",
    "    \n",
    "    def init_hidden(self, x):\n",
    "        h0 = torch.zeros(self.layer_dim, x.size(0), self.hidden_dim)\n",
    "        c0 = torch.zeros(self.layer_dim, x.size(0), self.hidden_dim)\n",
    "        return [t.cuda() for t in (h0, c0)]"
   ]
  },
  {
   "cell_type": "code",
   "execution_count": 5,
   "metadata": {},
   "outputs": [],
   "source": [
    "class MyEnsemble(nn.Module):\n",
    "    def __init__(self, LSTMClassifier, output_dim):\n",
    "        super(MyEnsemble, self).__init__()        \n",
    "        self.LSTM = LSTMClassifier\n",
    "        self.fc = nn.Sequential(nn.Linear(900,100), nn.ReLU())\n",
    "        self.classifier = nn.Sequential(nn.Linear(100, output_dim), nn.Softmax(dim=1))\n",
    "        \n",
    "    def forward(self, x1, x2, x3, x4, x5, x6, x7, x8, x9):\n",
    "        x1 = self.LSTM(x1)\n",
    "        x2 = self.LSTM(x2)\n",
    "        x3 = self.LSTM(x3)\n",
    "        x4 = self.LSTM(x4)\n",
    "        x5 = self.LSTM(x5)\n",
    "        x6 = self.LSTM(x6)\n",
    "        x7 = self.LSTM(x7)\n",
    "        x8 = self.LSTM(x8)\n",
    "        x9 = self.LSTM(x9)        \n",
    "        x = torch.cat((x1, x2, x3, x4, x5, x6, x7, x8, x9), dim=1)\n",
    "        x = self.fc(x)\n",
    "        x = self.classifier(x)\n",
    "        return x"
   ]
  },
  {
   "cell_type": "code",
   "execution_count": 6,
   "metadata": {},
   "outputs": [],
   "source": [
    "def rms(y):\n",
    "    return np.sqrt(np.mean(y**2))    "
   ]
  },
  {
   "cell_type": "markdown",
   "metadata": {
    "colab_type": "text",
    "id": "kRLY4aryS8v7"
   },
   "source": [
    "**DATA PREPARATION**\n",
    "---"
   ]
  },
  {
   "cell_type": "code",
   "execution_count": 7,
   "metadata": {
    "colab": {},
    "colab_type": "code",
    "id": "V9BxLbnV9hAo"
   },
   "outputs": [],
   "source": [
    "work = []\n",
    "signal = []\n",
    "list_file = ['time_serie_1.p', 'time_serie_2.p', 'time_serie_3.p', 'time_serie_4.p', 'time_serie_5.p', 'time_serie_6.p']\n",
    "\n",
    "for file in list_file:\n",
    "  with open(file,'rb') as f:\n",
    "        while True:\n",
    "          try:\n",
    "            u = pickle._Unpickler(f)\n",
    "            u.encoding = 'latin1' \n",
    "            p = u.load()      \n",
    "            A = p['acc']\n",
    "            signal.append(A)\n",
    "            work.append(p['jobname'])\n",
    "\n",
    "          except EOFError:\n",
    "            break            \n"
   ]
  },
  {
   "cell_type": "code",
   "execution_count": 8,
   "metadata": {},
   "outputs": [],
   "source": [
    "df = pd.read_csv('compare_single.csv')\n",
    "s = df['label_l'].to_list()\n",
    "job = df['jobname'].to_list()\n",
    "\n",
    "sensor = [2,5,68,11,14,17,20,23,26]\n",
    "label = {}\n",
    "for i in range(len(job)):\n",
    "    lab = -1\n",
    "    if s[i] in sensor:\n",
    "        lab = s[i]\n",
    "\n",
    "    label[int(job[i])] = int(lab)\n"
   ]
  },
  {
   "cell_type": "code",
   "execution_count": 9,
   "metadata": {},
   "outputs": [],
   "source": [
    "y = []\n",
    "for i in range(len(work)):\n",
    "    y.append(label[int(work[i])])\n",
    "\n",
    "y = np.array(y)    \n"
   ]
  },
  {
   "cell_type": "code",
   "execution_count": 10,
   "metadata": {},
   "outputs": [],
   "source": [
    "signal = np.array(signal)[:,:6000,:]\n",
    "signal0=signal\n",
    "list_id = np.where(y!=-1)\n",
    "\n",
    "signal0 = signal0[list_id]\n",
    "y = y[list_id]\n"
   ]
  },
  {
   "cell_type": "code",
   "execution_count": 11,
   "metadata": {},
   "outputs": [],
   "source": [
    "le = LabelEncoder()\n",
    "le.fit(np.unique(y))\n",
    "y = le.transform(y)"
   ]
  },
  {
   "cell_type": "code",
   "execution_count": 12,
   "metadata": {
    "colab": {},
    "colab_type": "code",
    "id": "aIG-Fi71FvWg"
   },
   "outputs": [],
   "source": [
    "Xmax = np.max(signal0)\n",
    "Xmin = np.min(signal0)\n",
    "signal0 = (signal0 - Xmin) / (Xmax-Xmin)"
   ]
  },
  {
   "cell_type": "code",
   "execution_count": 13,
   "metadata": {},
   "outputs": [],
   "source": [
    "v_rms= rms(signal0)"
   ]
  },
  {
   "cell_type": "code",
   "execution_count": 14,
   "metadata": {},
   "outputs": [],
   "source": [
    "signal1 = signal0 + 0.001*v_rms*np.random.normal(0.0, 1.0, np.shape(signal0))\n",
    "signal2 = signal0 + 0.001*v_rms*np.random.normal(0.0, 1.0, np.shape(signal0))\n",
    "signal3 = signal0 + 0.001*v_rms*np.random.normal(0.0, 1.0, np.shape(signal0))\n",
    "# signal4 = signal0 + 0.001*v_rms*np.random.normal(0.0, 1.0, np.shape(signal0))\n",
    "# signal5 = signal0 + 0.001*v_rms*np.random.normal(0.0, 1.0, np.shape(signal0))"
   ]
  },
  {
   "cell_type": "code",
   "execution_count": 15,
   "metadata": {},
   "outputs": [],
   "source": [
    "yy = np.concatenate((y,y,y,y),axis=0)\n",
    "# yy = y"
   ]
  },
  {
   "cell_type": "code",
   "execution_count": 16,
   "metadata": {},
   "outputs": [],
   "source": [
    "X = np.concatenate((signal0, signal1, signal2, signal3),axis=0)\n",
    "# X = signal0"
   ]
  },
  {
   "cell_type": "code",
   "execution_count": 17,
   "metadata": {},
   "outputs": [],
   "source": [
    "# import sys\n",
    "\n",
    "# # These are the usual ipython objects, including this one you are creating\n",
    "# ipython_vars = ['In', 'Out', 'exit', 'quit', 'get_ipython', 'ipython_vars']\n",
    "\n",
    "# # Get a sorted list of the objects and their sizes\n",
    "# sorted([(x, int(sys.getsizeof(globals().get(x))/1024**3)) for x in dir() if not x.startswith('_') and x not in sys.modules and x not in ipython_vars], key=lambda x: x[1], reverse=True)"
   ]
  },
  {
   "cell_type": "code",
   "execution_count": 18,
   "metadata": {},
   "outputs": [
    {
     "name": "stdout",
     "output_type": "stream",
     "text": [
      "(2772, 6000, 9) (2772,)\n"
     ]
    }
   ],
   "source": [
    "print(np.shape(X), np.shape(yy))"
   ]
  },
  {
   "cell_type": "code",
   "execution_count": 19,
   "metadata": {
    "colab": {},
    "colab_type": "code",
    "id": "DUhGhuGukH1g"
   },
   "outputs": [],
   "source": [
    "X_trv, X_test, y_trv, y_test = create_data(X, yy)\n",
    "X_train, X_valid, y_train, y_valid = create_data(X_trv, y_trv)\n",
    "\n",
    "X1_train = X_train[:,:,0] \n",
    "X2_train = X_train[:,:,1] \n",
    "X3_train = X_train[:,:,2] \n",
    "X4_train = X_train[:,:,3] \n",
    "X5_train = X_train[:,:,4] \n",
    "X6_train = X_train[:,:,5] \n",
    "X7_train = X_train[:,:,6] \n",
    "X8_train = X_train[:,:,7] \n",
    "X9_train = X_train[:,:,8] \n",
    "\n",
    "X1_valid = X_valid[:,:,0] \n",
    "X2_valid = X_valid[:,:,1] \n",
    "X3_valid = X_valid[:,:,2] \n",
    "X4_valid = X_valid[:,:,3] \n",
    "X5_valid = X_valid[:,:,4] \n",
    "X6_valid = X_valid[:,:,5] \n",
    "X7_valid = X_valid[:,:,6] \n",
    "X8_valid = X_valid[:,:,7] \n",
    "X9_valid = X_valid[:,:,8] \n",
    "\n",
    "X1_test = X_test[:,:,0] \n",
    "X2_test = X_test[:,:,1] \n",
    "X3_test = X_test[:,:,2] \n",
    "X4_test = X_test[:,:,3] \n",
    "X5_test = X_test[:,:,4] \n",
    "X6_test = X_test[:,:,5] \n",
    "X7_test = X_test[:,:,6] \n",
    "X8_test = X_test[:,:,7] \n",
    "X9_test = X_test[:,:,8] \n",
    "\n",
    "X1_train =X1_train.reshape(X1_train.shape[0], -1, 1)\n",
    "X2_train =X2_train.reshape(X2_train.shape[0], -1, 1)\n",
    "X3_train =X3_train.reshape(X3_train.shape[0], -1, 1)\n",
    "X4_train =X4_train.reshape(X4_train.shape[0], -1, 1)\n",
    "X5_train =X5_train.reshape(X5_train.shape[0], -1, 1)\n",
    "X6_train =X6_train.reshape(X6_train.shape[0], -1, 1)\n",
    "X7_train =X7_train.reshape(X7_train.shape[0], -1, 1)\n",
    "X8_train =X8_train.reshape(X8_train.shape[0], -1, 1)\n",
    "X9_train =X9_train.reshape(X9_train.shape[0], -1, 1)\n",
    "\n",
    "X1_valid =X1_valid.reshape(X1_valid.shape[0], -1, 1)\n",
    "X2_valid =X2_valid.reshape(X2_valid.shape[0], -1, 1)\n",
    "X3_valid =X3_valid.reshape(X3_valid.shape[0], -1, 1)\n",
    "X4_valid =X4_valid.reshape(X4_valid.shape[0], -1, 1)\n",
    "X5_valid =X5_valid.reshape(X5_valid.shape[0], -1, 1)\n",
    "X6_valid =X6_valid.reshape(X6_valid.shape[0], -1, 1)\n",
    "X7_valid =X7_valid.reshape(X7_valid.shape[0], -1, 1)\n",
    "X8_valid =X8_valid.reshape(X8_valid.shape[0], -1, 1)\n",
    "X9_valid =X9_valid.reshape(X9_valid.shape[0], -1, 1)\n",
    "\n",
    "\n",
    "X1_test =X1_test.reshape(X1_test.shape[0], -1, 1)\n",
    "X2_test =X2_test.reshape(X2_test.shape[0], -1, 1)\n",
    "X3_test =X3_test.reshape(X3_test.shape[0], -1, 1)\n",
    "X4_test =X4_test.reshape(X4_test.shape[0], -1, 1)\n",
    "X5_test =X5_test.reshape(X5_test.shape[0], -1, 1)\n",
    "X6_test =X6_test.reshape(X6_test.shape[0], -1, 1)\n",
    "X7_test =X7_test.reshape(X7_test.shape[0], -1, 1)\n",
    "X8_test =X8_test.reshape(X8_test.shape[0], -1, 1)\n",
    "X9_test =X9_test.reshape(X9_test.shape[0], -1, 1)\n",
    "\n",
    "\n",
    "\n",
    "train_ds = create_datasets(X1_train, X2_train, X3_train, X4_train, X5_train, X6_train, X7_train, X8_train, X9_train, y_train)\n",
    "valid_ds = create_datasets(X1_valid, X2_valid, X3_valid, X4_valid, X5_valid, X6_valid, X7_valid, X8_valid, X9_valid, y_valid)\n",
    "test_ds = create_datasets(X1_test, X2_test, X3_test, X4_test, X5_test, X6_test, X7_test, X8_test, X9_test, y_test)\n",
    "train_dl, valid_dl = create_dataloaders(train_ds, valid_ds)\n",
    "test_dl = test_dataloaders(test_ds, bs=len(y_test))"
   ]
  },
  {
   "cell_type": "code",
   "execution_count": 20,
   "metadata": {
    "colab": {},
    "colab_type": "code",
    "id": "wo7HpPPXl7I7"
   },
   "outputs": [
    {
     "name": "stdout",
     "output_type": "stream",
     "text": [
      "Epoch:   3. Loss: 2.0950. Acc.: 16.00%\n",
      "Epoch:   6. Loss: 2.0632. Acc.: 16.00%\n",
      "Epoch:   9. Loss: 2.0762. Acc.: 15.60%\n",
      "Epoch:  12. Loss: 2.0538. Acc.: 16.00%\n",
      "Epoch:  15. Loss: 2.0632. Acc.: 16.00%\n",
      "Epoch:  18. Loss: 2.0790. Acc.: 16.00%\n",
      "Epoch:  21. Loss: 2.0810. Acc.: 16.00%\n",
      "Epoch:  24. Loss: 2.0775. Acc.: 16.00%\n",
      "Epoch:  27. Loss: 2.0810. Acc.: 16.00%\n",
      "Epoch:  30. Loss: 2.0835. Acc.: 16.00%\n",
      "Epoch:  33. Loss: 2.0922. Acc.: 16.00%\n",
      "Epoch:  36. Loss: 2.0707. Acc.: 20.80%\n",
      "Epoch:  39. Loss: 2.0545. Acc.: 20.00%\n",
      "Epoch:  42. Loss: 2.1038. Acc.: 22.00%\n",
      "Epoch:  45. Loss: 2.0401. Acc.: 24.00%\n",
      "Epoch:  48. Loss: 2.0510. Acc.: 23.20%\n",
      "Epoch:  51. Loss: 2.0312. Acc.: 30.40%\n",
      "Epoch:  54. Loss: 2.0567. Acc.: 23.60%\n",
      "Epoch:  57. Loss: 2.0654. Acc.: 28.00%\n",
      "Epoch:  60. Loss: 2.0114. Acc.: 33.60%\n",
      "Epoch:  63. Loss: 1.9555. Acc.: 38.80%\n",
      "Epoch:  66. Loss: 1.9554. Acc.: 38.40%\n",
      "Epoch:  69. Loss: 1.8960. Acc.: 38.40%\n",
      "Epoch:  72. Loss: 1.9958. Acc.: 37.20%\n",
      "Epoch:  75. Loss: 1.7610. Acc.: 46.00%\n",
      "Epoch:  78. Loss: 1.7867. Acc.: 48.40%\n",
      "Epoch:  81. Loss: 1.7919. Acc.: 49.60%\n",
      "Epoch:  84. Loss: 1.7578. Acc.: 52.00%\n",
      "Epoch:  87. Loss: 1.7729. Acc.: 51.20%\n",
      "Epoch:  90. Loss: 2.0308. Acc.: 19.20%\n",
      "Epoch:  93. Loss: 1.8017. Acc.: 52.40%\n",
      "Epoch:  96. Loss: 1.6805. Acc.: 53.60%\n",
      "Epoch:  99. Loss: 1.6957. Acc.: 55.20%\n",
      "Epoch: 102. Loss: 1.6473. Acc.: 54.40%\n",
      "Epoch: 105. Loss: 1.7409. Acc.: 56.80%\n",
      "Epoch: 108. Loss: 1.6152. Acc.: 61.60%\n",
      "Epoch: 111. Loss: 1.6666. Acc.: 63.20%\n",
      "Epoch: 114. Loss: 1.5929. Acc.: 62.80%\n",
      "Epoch: 117. Loss: 1.6355. Acc.: 66.00%\n",
      "Epoch: 120. Loss: 1.5504. Acc.: 66.80%\n",
      "Epoch: 123. Loss: 1.5784. Acc.: 68.40%\n",
      "Epoch: 126. Loss: 1.4465. Acc.: 68.80%\n",
      "Epoch: 129. Loss: 1.5142. Acc.: 68.80%\n",
      "Epoch: 132. Loss: 1.4979. Acc.: 70.00%\n",
      "Epoch: 135. Loss: 1.5386. Acc.: 72.80%\n",
      "Epoch: 138. Loss: 1.4762. Acc.: 72.80%\n",
      "Epoch: 141. Loss: 1.4924. Acc.: 75.20%\n",
      "Epoch: 144. Loss: 1.4264. Acc.: 74.40%\n",
      "Epoch: 147. Loss: 1.4360. Acc.: 75.60%\n",
      "Epoch: 150. Loss: 1.4922. Acc.: 75.60%\n",
      "Epoch: 153. Loss: 1.4662. Acc.: 75.60%\n",
      "Epoch: 156. Loss: 1.5229. Acc.: 76.00%\n",
      "Epoch: 159. Loss: 1.4448. Acc.: 75.20%\n",
      "Epoch: 162. Loss: 1.4520. Acc.: 75.60%\n",
      "Epoch: 165. Loss: 1.4459. Acc.: 74.00%\n",
      "Epoch: 168. Loss: 1.4206. Acc.: 76.00%\n",
      "Epoch: 171. Loss: 1.4211. Acc.: 76.40%\n",
      "Epoch: 174. Loss: 1.4395. Acc.: 76.40%\n",
      "Epoch: 177. Loss: 1.4763. Acc.: 76.40%\n",
      "Epoch: 180. Loss: 1.5267. Acc.: 76.40%\n",
      "Epoch: 183. Loss: 1.4528. Acc.: 76.40%\n",
      "Epoch: 186. Loss: 1.4790. Acc.: 76.40%\n",
      "Epoch: 189. Loss: 1.4343. Acc.: 76.80%\n",
      "Epoch: 192. Loss: 1.4384. Acc.: 76.00%\n",
      "Epoch: 195. Loss: 1.4468. Acc.: 76.80%\n",
      "Epoch: 198. Loss: 1.4647. Acc.: 76.80%\n",
      "Epoch: 201. Loss: 1.4059. Acc.: 76.80%\n",
      "Epoch: 204. Loss: 1.6418. Acc.: 71.20%\n",
      "Epoch: 207. Loss: 1.4108. Acc.: 76.40%\n",
      "Epoch: 210. Loss: 1.4785. Acc.: 76.40%\n",
      "Epoch: 213. Loss: 1.4252. Acc.: 76.40%\n",
      "Epoch: 216. Loss: 1.4302. Acc.: 76.80%\n",
      "Epoch: 219. Loss: 1.4517. Acc.: 77.20%\n",
      "Epoch: 222. Loss: 1.4760. Acc.: 77.20%\n",
      "Epoch: 225. Loss: 1.3908. Acc.: 77.20%\n",
      "Epoch: 228. Loss: 1.4106. Acc.: 78.00%\n",
      "Epoch: 231. Loss: 1.4701. Acc.: 78.40%\n",
      "Epoch: 234. Loss: 1.4334. Acc.: 78.40%\n",
      "Epoch: 237. Loss: 1.4741. Acc.: 78.40%\n",
      "Epoch: 240. Loss: 1.4619. Acc.: 78.40%\n",
      "Epoch: 243. Loss: 1.4613. Acc.: 78.40%\n",
      "Epoch: 246. Loss: 1.3899. Acc.: 78.40%\n",
      "Epoch: 249. Loss: 1.3940. Acc.: 78.40%\n",
      "Epoch: 252. Loss: 1.4605. Acc.: 79.60%\n",
      "Epoch: 255. Loss: 1.4350. Acc.: 78.80%\n",
      "Epoch: 258. Loss: 1.4885. Acc.: 79.20%\n",
      "Epoch: 261. Loss: 1.4737. Acc.: 80.00%\n",
      "Epoch: 264. Loss: 1.3741. Acc.: 80.00%\n",
      "Epoch: 267. Loss: 1.4746. Acc.: 80.00%\n",
      "Epoch: 270. Loss: 1.3778. Acc.: 80.40%\n",
      "Epoch: 273. Loss: 1.4569. Acc.: 78.40%\n",
      "Epoch: 276. Loss: 1.4697. Acc.: 77.20%\n",
      "Epoch: 279. Loss: 1.4057. Acc.: 80.80%\n",
      "Epoch: 282. Loss: 1.4620. Acc.: 80.80%\n",
      "Epoch: 285. Loss: 1.3593. Acc.: 81.20%\n",
      "Epoch: 288. Loss: 1.3883. Acc.: 82.00%\n",
      "Epoch: 291. Loss: 1.3734. Acc.: 82.00%\n",
      "Epoch: 294. Loss: 1.4301. Acc.: 82.00%\n",
      "Epoch: 297. Loss: 1.4437. Acc.: 82.00%\n",
      "Epoch: 300. Loss: 1.4599. Acc.: 82.00%\n",
      "Time:  508.992958902003\n"
     ]
    }
   ],
   "source": [
    "step_dim = np.shape(X)[1]\n",
    "output_dim = len(np.unique(yy))\n",
    "\n",
    "LSTM = LSTMClassifier()\n",
    "model = MyEnsemble(LSTM, output_dim)\n",
    "model = model.cuda()\n",
    "\n",
    "lr = 0.0005\n",
    "n_epochs = 300\n",
    "best_acc = 0\n",
    "\n",
    "criterion = nn.CrossEntropyLoss()\n",
    "optimizer = torch.optim.Adam(model.parameters(), lr=lr)\n",
    "\n",
    "train_loss = []\n",
    "valid_acc = []\n",
    "start = timeit.default_timer()\n",
    "\n",
    "for epoch in range(1, n_epochs + 1):   \n",
    "    for i, (x1_train, x2_train, x3_train, x4_train, x5_train, x6_train, x7_train, x8_train, x9_train, y_train) in enumerate(train_dl):\n",
    "        model.train()\n",
    "        x1_train, x2_train, x3_train, x4_train, x5_train, x6_train, x7_train, x8_train, x9_train, y_train = [t.cuda() for t in (x1_train, x2_train, x3_train, x4_train, x5_train, x6_train, x7_train, x8_train, x9_train, y_train)]\n",
    "        optimizer.zero_grad()\n",
    "        output = model(x1_train, x2_train, x3_train, x4_train, x5_train, x6_train, x7_train, x8_train, x9_train)\n",
    "        loss = criterion(output, y_train)\n",
    "        loss.backward()\n",
    "        optimizer.step()\n",
    "    \n",
    "    if epoch % 3 == 0:\n",
    "        model.eval()        \n",
    "        Ncorrect, Nsample = 0, 0\n",
    "        for x1_val, x2_val, x3_val, x4_val, x5_val, x6_val, x7_val, x8_val, x9_val, y_val in valid_dl:\n",
    "            x1_val, x2_val, x3_val, x4_val, x5_val, x6_val, x7_val, x8_val, x9_val, y_val = [t.cuda() for t in (x1_val, x2_val, x3_val, x4_val, x5_val, x6_val, x7_val, x8_val, x9_val, y_val)]\n",
    "            out = model(x1_val, x2_val, x3_val, x4_val, x5_val, x6_val, x7_val, x8_val, x9_val)\n",
    "            preds = F.log_softmax(out, dim=1).argmax(dim=1)\n",
    "            Nsample += y_val.size(0)\n",
    "            Ncorrect += (preds == y_val).sum().item()\n",
    "\n",
    "        acc = Ncorrect / Nsample   \n",
    "        valid_acc.append(acc)\n",
    "        train_loss.append(loss.item())        \n",
    "        print(f'Epoch: {epoch:3d}. Loss: {loss.item():.4f}. Acc.: {acc:2.2%}')\n",
    "\n",
    "#Your statements here\n",
    "\n",
    "stop = timeit.default_timer()\n",
    "print('Time: ', stop - start)  \n"
   ]
  },
  {
   "cell_type": "code",
   "execution_count": 21,
   "metadata": {},
   "outputs": [],
   "source": [
    "torch.save(model.state_dict(), 'lstm_localization_beam.pth')"
   ]
  },
  {
   "cell_type": "markdown",
   "metadata": {
    "colab_type": "text",
    "id": "IWGJUHtJTe5d"
   },
   "source": [
    "**VISUALIZATION**\n",
    "---"
   ]
  },
  {
   "cell_type": "code",
   "execution_count": 22,
   "metadata": {},
   "outputs": [
    {
     "data": {
      "text/plain": [
       "Text(0, 0.5, 'Y2 data')"
      ]
     },
     "execution_count": 22,
     "metadata": {},
     "output_type": "execute_result"
    },
    {
     "data": {
      "image/png": "[encoded data removed]",
      "text/plain": [
       "<Figure size 432x288 with 2 Axes>"
      ]
     },
     "metadata": {
      "needs_background": "light"
     },
     "output_type": "display_data"
    }
   ],
   "source": [
    "fig, ax1 = plt.subplots()\n",
    "\n",
    "ax2 = ax1.twinx()\n",
    "\n",
    "nepo = (np.arange(len(valid_acc))+1)*3\n",
    "ax1.plot(nepo, train_loss)\n",
    "ax2.plot(nepo, valid_acc)\n",
    "\n",
    "ax1.set_xlabel('X data')\n",
    "ax1.set_ylabel('Y1 data', color='g')\n",
    "ax2.set_ylabel('Y2 data', color='b')"
   ]
  },
  {
   "cell_type": "code",
   "execution_count": 23,
   "metadata": {
    "colab": {
     "base_uri": "https://localhost:8080/",
     "height": 85
    },
    "colab_type": "code",
    "id": "jmK0yAE6BSiH",
    "outputId": "aff4ccd0-6a9f-439e-a744-5ab371baf9e7"
   },
   "outputs": [
    {
     "name": "stdout",
     "output_type": "stream",
     "text": [
      "tensor([[13.,  2.,  0.,  0.,  1.,  2.,  2.,  1.],\n",
      "        [ 0., 24.,  1.,  0.,  0.,  3.,  0.,  0.],\n",
      "        [ 0.,  0., 25.,  0.,  1.,  1.,  0.,  0.],\n",
      "        [ 2.,  0.,  2., 23.,  3.,  2.,  2.,  2.],\n",
      "        [ 0.,  1.,  2.,  1., 27.,  2.,  0.,  1.],\n",
      "        [ 0.,  0.,  1.,  0.,  0., 39.,  0.,  0.],\n",
      "        [ 1.,  1.,  1.,  0.,  1.,  0., 22.,  3.],\n",
      "        [ 0.,  2.,  0.,  0.,  1.,  0.,  0., 32.]])\n"
     ]
    }
   ],
   "source": [
    "nb_classes = output_dim\n",
    "\n",
    "confusion_matrix = torch.zeros(nb_classes, nb_classes)\n",
    "\n",
    "test_dl = test_dataloaders(test_ds)\n",
    "y_pred = []\n",
    "y_actual = []\n",
    "with torch.no_grad():\n",
    "    for x1_test, x2_test, x3_test, x4_test, x5_test, x6_test, x7_test, x8_test, x9_test, y0_test in test_dl:\n",
    "        x1_test, x2_test, x3_test, x4_test, x5_test, x6_test, x7_test, x8_test, x9_test, y0_test = [t.cuda() for t in (x1_test, x2_test, x3_test, x4_test, x5_test, x6_test, x7_test, x8_test, x9_test, y0_test)]\n",
    "        out = model(x1_test, x2_test, x3_test, x4_test, x5_test, x6_test, x7_test, x8_test, x9_test)\n",
    "        _, preds = torch.max(out, 1)\n",
    "        y_pred += preds.view(-1).tolist()\n",
    "        y_actual += y0_test.view(-1).tolist()\n",
    "        for t, p in zip(y0_test.view(-1), preds.view(-1)):\n",
    "                confusion_matrix[t.long(), p.long()] += 1\n",
    "\n",
    "print(confusion_matrix)"
   ]
  },
  {
   "cell_type": "code",
   "execution_count": 24,
   "metadata": {
    "colab": {
     "base_uri": "https://localhost:8080/",
     "height": 764
    },
    "colab_type": "code",
    "id": "809FPpO3Linu",
    "outputId": "8de95b0c-828d-4399-9144-b2611c599519"
   },
   "outputs": [
    {
     "name": "stdout",
     "output_type": "stream",
     "text": [
      "              precision    recall  f1-score   support\n",
      "\n",
      "           0       0.81      0.62      0.70        21\n",
      "           1       0.80      0.86      0.83        28\n",
      "           2       0.78      0.93      0.85        27\n",
      "           3       0.96      0.64      0.77        36\n",
      "           4       0.79      0.79      0.79        34\n",
      "           5       0.80      0.97      0.88        40\n",
      "           6       0.85      0.76      0.80        29\n",
      "           7       0.82      0.91      0.86        35\n",
      "\n",
      "    accuracy                           0.82       250\n",
      "   macro avg       0.83      0.81      0.81       250\n",
      "weighted avg       0.83      0.82      0.82       250\n",
      "\n"
     ]
    },
    {
     "data": {
      "image/png": "[encoded data removed]",
      "text/plain": [
       "<Figure size 864x648 with 2 Axes>"
      ]
     },
     "metadata": {
      "needs_background": "light"
     },
     "output_type": "display_data"
    }
   ],
   "source": [
    "from sklearn.metrics import confusion_matrix\n",
    "from sklearn.metrics import classification_report\n",
    "\n",
    "import seaborn as sns\n",
    "import matplotlib.pyplot as plt\n",
    "\n",
    "print(classification_report(y_actual, y_pred))\n",
    "cm =confusion_matrix(y_actual, y_pred)  \n",
    "\n",
    "index = np.arange(0,output_dim)\n",
    "columns = np.arange(0,output_dim)\n",
    "# index = ['Healthy', 'Minor', 'Moderate', 'Severe']\n",
    "# columns = ['Healthy', 'Minor', 'Moderate', 'Severe']\n",
    "\n",
    "\n",
    "cm_df = pd.DataFrame(cm,columns,index)                      \n",
    "plt.figure(figsize=(12,9))  \n",
    "cm_df.index.name = 'Actual'\n",
    "cm_df.columns.name = 'Predicted'\n",
    "sns.set(font_scale=1.6)\n",
    "sns.heatmap(cm_df, annot=True, cmap= \"YlGnBu\", fmt='g')\n",
    "\n",
    "plt.savefig('severity.png')"
   ]
  },
  {
   "cell_type": "code",
   "execution_count": null,
   "metadata": {},
   "outputs": [],
   "source": [
    "plt.hist(yy)"
   ]
  },
  {
   "cell_type": "code",
   "execution_count": 42,
   "metadata": {},
   "outputs": [
    {
     "data": {
      "text/plain": [
       "9959"
      ]
     },
     "execution_count": 42,
     "metadata": {},
     "output_type": "execute_result"
    }
   ],
   "source": [
    "len(X_train)"
   ]
  },
  {
   "cell_type": "code",
   "execution_count": 43,
   "metadata": {},
   "outputs": [
    {
     "data": {
      "text/plain": [
       "1107"
      ]
     },
     "execution_count": 43,
     "metadata": {},
     "output_type": "execute_result"
    }
   ],
   "source": [
    "len(X_valid)"
   ]
  },
  {
   "cell_type": "code",
   "execution_count": 44,
   "metadata": {},
   "outputs": [
    {
     "data": {
      "text/plain": [
       "1230"
      ]
     },
     "execution_count": 44,
     "metadata": {},
     "output_type": "execute_result"
    }
   ],
   "source": [
    "len(X_test)"
   ]
  },
  {
   "cell_type": "code",
   "execution_count": 60,
   "metadata": {},
   "outputs": [
    {
     "data": {
      "text/plain": [
       "1230"
      ]
     },
     "execution_count": 60,
     "metadata": {},
     "output_type": "execute_result"
    }
   ],
   "source": [
    "len(y_test)"
   ]
  },
  {
   "cell_type": "code",
   "execution_count": 47,
   "metadata": {},
   "outputs": [
    {
     "data": {
      "text/plain": [
       "83"
      ]
     },
     "execution_count": 47,
     "metadata": {},
     "output_type": "execute_result"
    }
   ],
   "source": [
    "len(preds)"
   ]
  },
  {
   "cell_type": "code",
   "execution_count": 62,
   "metadata": {},
   "outputs": [
    {
     "data": {
      "text/plain": [
       "(1230,)"
      ]
     },
     "execution_count": 62,
     "metadata": {},
     "output_type": "execute_result"
    }
   ],
   "source": [
    "np.shape(y_test)"
   ]
  },
  {
   "cell_type": "code",
   "execution_count": 63,
   "metadata": {},
   "outputs": [
    {
     "data": {
      "text/plain": [
       "(83,)"
      ]
     },
     "execution_count": 63,
     "metadata": {},
     "output_type": "execute_result"
    }
   ],
   "source": [
    "np.shape(preds.tolist())"
   ]
  },
  {
   "cell_type": "code",
   "execution_count": null,
   "metadata": {},
   "outputs": [],
   "source": []
  }
 ],
 "metadata": {
  "accelerator": "GPU",
  "colab": {
   "collapsed_sections": [],
   "name": "MLP_raw_2.ipynb",
   "provenance": [],
   "version": "0.3.2"
  },
  "kernelspec": {
   "display_name": "Python 3",
   "language": "python",
   "name": "python3"
  },
  "language_info": {
   "codemirror_mode": {
    "name": "ipython",
    "version": 3
   },
   "file_extension": ".py",
   "mimetype": "text/x-python",
   "name": "python",
   "nbconvert_exporter": "python",
   "pygments_lexer": "ipython3",
   "version": "3.6.8"
  }
 },
 "nbformat": 4,
 "nbformat_minor": 1
}
