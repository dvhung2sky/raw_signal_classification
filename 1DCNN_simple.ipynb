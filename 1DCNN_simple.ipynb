{
 "cells": [
  {
   "cell_type": "code",
   "execution_count": 0,
   "metadata": {
    "colab": {},
    "colab_type": "code",
    "id": "45Cr62EE7b_I"
   },
   "outputs": [],
   "source": [
    "import numpy as np\n",
    "import pandas as pd\n",
    "import torch\n",
    "import torch.nn as nn"
   ]
  },
  {
   "cell_type": "markdown",
   "metadata": {
    "colab_type": "text",
    "id": "vvVgaOQa7066"
   },
   "source": [
    ""
   ]
  },
  {
   "cell_type": "code",
   "execution_count": 0,
   "metadata": {
    "colab": {},
    "colab_type": "code",
    "id": "asq3W5eW71AF"
   },
   "outputs": [],
   "source": [
    ""
   ]
  },
  {
   "cell_type": "code",
   "execution_count": 0,
   "metadata": {
    "colab": {},
    "colab_type": "code",
    "id": "HeM22KoM71Ek"
   },
   "outputs": [],
   "source": [
    "x = np.array([1,2,3])"
   ]
  },
  {
   "cell_type": "code",
   "execution_count": 0,
   "metadata": {
    "colab": {
     "base_uri": "https://localhost:8080/",
     "height": 34
    },
    "colab_type": "code",
    "id": "Iw3xcjWX71It",
    "outputId": "14451982-3689-40c9-d2fe-4097f8f0075d"
   },
   "outputs": [
    {
     "data": {
      "text/plain": [
       "tensor([1, 2, 3])"
      ]
     },
     "execution_count": 3,
     "metadata": {
      "tags": []
     },
     "output_type": "execute_result"
    }
   ],
   "source": [
    "torch.from_numpy(x)"
   ]
  },
  {
   "cell_type": "code",
   "execution_count": 0,
   "metadata": {
    "colab": {},
    "colab_type": "code",
    "id": "UfP8EthQ71MV"
   },
   "outputs": [],
   "source": [
    "y = np.array([1,2,3,4,5,6,7,8,9])"
   ]
  },
  {
   "cell_type": "code",
   "execution_count": 0,
   "metadata": {
    "colab": {},
    "colab_type": "code",
    "id": "TbysF6oC8BEp"
   },
   "outputs": [],
   "source": [
    "yy = torch.from_numpy(y)"
   ]
  },
  {
   "cell_type": "code",
   "execution_count": 0,
   "metadata": {
    "colab": {},
    "colab_type": "code",
    "id": "EHhehPPc8tZS"
   },
   "outputs": [],
   "source": [
    "xx = torch.tensor([[[0., 1., 2., 3., 4., 5., 6., 7., 8., 9.]]])"
   ]
  },
  {
   "cell_type": "code",
   "execution_count": 0,
   "metadata": {
    "colab": {},
    "colab_type": "code",
    "id": "nfo7mYES8CiK"
   },
   "outputs": [],
   "source": [
    "pool = nn.MaxPool1d(kernel_size=2, stride=2)\n",
    "output = pool(xx)"
   ]
  },
  {
   "cell_type": "code",
   "execution_count": 0,
   "metadata": {
    "colab": {
     "base_uri": "https://localhost:8080/",
     "height": 34
    },
    "colab_type": "code",
    "id": "TRKG_STZ8g1p",
    "outputId": "c0f40a09-1ddf-4cde-8c08-15747b18ad7a"
   },
   "outputs": [
    {
     "data": {
      "text/plain": [
       "tensor([[[1., 3., 5., 7., 9.]]])"
      ]
     },
     "execution_count": 15,
     "metadata": {
      "tags": []
     },
     "output_type": "execute_result"
    }
   ],
   "source": [
    "output"
   ]
  },
  {
   "cell_type": "code",
   "execution_count": 0,
   "metadata": {
    "colab": {
     "base_uri": "https://localhost:8080/",
     "height": 34
    },
    "colab_type": "code",
    "id": "50c7SOYU8ykq",
    "outputId": "603edaff-9315-4f90-a749-37ba4d13a19e"
   },
   "outputs": [
    {
     "data": {
      "text/plain": [
       "torch.Size([1, 1, 10])"
      ]
     },
     "execution_count": 16,
     "metadata": {
      "tags": []
     },
     "output_type": "execute_result"
    }
   ],
   "source": [
    "xx.shape"
   ]
  },
  {
   "cell_type": "code",
   "execution_count": 0,
   "metadata": {
    "colab": {},
    "colab_type": "code",
    "id": "cQINepzr83DC"
   },
   "outputs": [],
   "source": [
    "conv1d = nn.Conv1d(1, 3, 9, stride=2)"
   ]
  },
  {
   "cell_type": "code",
   "execution_count": 0,
   "metadata": {
    "colab": {
     "base_uri": "https://localhost:8080/",
     "height": 34
    },
    "colab_type": "code",
    "id": "JqTRf0Op9gKR",
    "outputId": "8640eea5-c9af-487a-ced0-973cdd3b0d0c"
   },
   "outputs": [
    {
     "data": {
      "text/plain": [
       "torch.Size([1, 3, 1])"
      ]
     },
     "execution_count": 27,
     "metadata": {
      "tags": []
     },
     "output_type": "execute_result"
    }
   ],
   "source": [
    "conv1d(xx).size()"
   ]
  },
  {
   "cell_type": "code",
   "execution_count": 0,
   "metadata": {
    "colab": {
     "base_uri": "https://localhost:8080/",
     "height": 52
    },
    "colab_type": "code",
    "id": "Mx3uGlRb9hVR",
    "outputId": "97f709dd-ab5c-48f1-f4c6-692f2d54e62e"
   },
   "outputs": [
    {
     "name": "stdout",
     "output_type": "stream",
     "text": [
      "torch.Size([32, 10, 992])\n",
      "Conv1d(1, 10, kernel_size=(100,), stride=(12,))\n"
     ]
    }
   ],
   "source": [
    "a = torch.randn(32, 1, 12001)  \n",
    "m = nn.Conv1d(1, 10, 100, 12) \n",
    "out = m(a)\n",
    "print(out.size())\n",
    "print(m)"
   ]
  },
  {
   "cell_type": "code",
   "execution_count": 0,
   "metadata": {
    "colab": {
     "base_uri": "https://localhost:8080/",
     "height": 52
    },
    "colab_type": "code",
    "id": "ih9LR8Ra9t_p",
    "outputId": "d36be252-9598-44fe-e334-7db608b507d9"
   },
   "outputs": [
    {
     "name": "stdout",
     "output_type": "stream",
     "text": [
      "torch.Size([32, 10, 98])\n",
      "Conv1d(10, 10, kernel_size=(20,), stride=(10,))\n"
     ]
    }
   ],
   "source": [
    "a = torch.randn(32, 10, 992)  \n",
    "m = nn.Conv1d(10, 10, 20, 10) \n",
    "out = m(a)\n",
    "print(out.size())\n",
    "print(m)"
   ]
  },
  {
   "cell_type": "code",
   "execution_count": 0,
   "metadata": {
    "colab": {},
    "colab_type": "code",
    "id": "_BCp7N8VedPT"
   },
   "outputs": [],
   "source": [
    ""
   ]
  }
 ],
 "metadata": {
  "colab": {
   "collapsed_sections": [],
   "name": "1DCNN_simple.ipynb",
   "provenance": []
  },
  "kernelspec": {
   "display_name": "Python 3",
   "name": "python3"
  }
 },
 "nbformat": 4,
 "nbformat_minor": 0
}
